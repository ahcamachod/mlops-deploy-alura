{
  "nbformat": 4,
  "nbformat_minor": 0,
  "metadata": {
    "colab": {
      "name": "precio_casas.ipynb",
      "provenance": []
    },
    "kernelspec": {
      "name": "python3",
      "display_name": "Python 3"
    },
    "language_info": {
      "name": "python"
    }
  },
  "cells": [
    {
      "cell_type": "code",
      "execution_count": null,
      "metadata": {
        "id": "cjZc8PgMxflx"
      },
      "outputs": [],
      "source": [
        "import pandas as pd\n",
        "\n",
        "df = pd.read_csv('/content/drive/MyDrive/MLOps/casas.csv')\n",
        "df.head()"
      ]
    },
    {
      "cell_type": "code",
      "source": [
        "df = df[['area','precio']]\n",
        "df.head()"
      ],
      "metadata": {
        "id": "-FgyVFQp1iQs"
      },
      "execution_count": null,
      "outputs": []
    },
    {
      "cell_type": "code",
      "source": [
        "X = df[['area']]\n",
        "y = df.precio"
      ],
      "metadata": {
        "id": "N-SUt4aT14AD"
      },
      "execution_count": null,
      "outputs": []
    },
    {
      "cell_type": "code",
      "source": [
        "from sklearn.model_selection import train_test_split\n",
        "\n",
        "X_train, X_test, y_train, y_test = train_test_split(X, y, test_size=0.3, random_state=42)"
      ],
      "metadata": {
        "id": "0b-J5CLb2gW5"
      },
      "execution_count": null,
      "outputs": []
    },
    {
      "cell_type": "code",
      "source": [
        "X_train.head()"
      ],
      "metadata": {
        "id": "ps453O2C20yo"
      },
      "execution_count": null,
      "outputs": []
    },
    {
      "cell_type": "code",
      "source": [
        "from sklearn.linear_model import LinearRegression\n",
        "\n",
        "modelo = LinearRegression()\n",
        "modelo.fit(X_train, y_train)"
      ],
      "metadata": {
        "colab": {
          "base_uri": "https://localhost:8080/"
        },
        "id": "ttpgdZ0c2241",
        "outputId": "5c2ce447-2053-4e37-e73b-28a6c4490156"
      },
      "execution_count": null,
      "outputs": [
        {
          "output_type": "execute_result",
          "data": {
            "text/plain": [
              "LinearRegression()"
            ]
          },
          "metadata": {},
          "execution_count": 26
        }
      ]
    },
    {
      "cell_type": "markdown",
      "source": [
        "3.2"
      ],
      "metadata": {
        "id": "Ymi8ctyL3TMF"
      }
    },
    {
      "cell_type": "code",
      "source": [
        "modelo.coef_"
      ],
      "metadata": {
        "colab": {
          "base_uri": "https://localhost:8080/"
        },
        "id": "BDEDmlfk3GlP",
        "outputId": "bc01b82e-cc1f-402e-f0b1-6dc14f7a8dba"
      },
      "execution_count": null,
      "outputs": [
        {
          "output_type": "execute_result",
          "data": {
            "text/plain": [
              "array([1084.75077747])"
            ]
          },
          "metadata": {},
          "execution_count": 27
        }
      ]
    },
    {
      "cell_type": "code",
      "source": [
        "modelo.intercept_"
      ],
      "metadata": {
        "colab": {
          "base_uri": "https://localhost:8080/"
        },
        "id": "PXp-zFHd3Wz-",
        "outputId": "5ecbdc09-fbcb-4bc5-fd3b-e4f36250ea8f"
      },
      "execution_count": null,
      "outputs": [
        {
          "output_type": "execute_result",
          "data": {
            "text/plain": [
              "27206.968559935078"
            ]
          },
          "metadata": {},
          "execution_count": 28
        }
      ]
    },
    {
      "cell_type": "code",
      "source": [
        "modelo.predict([[120]])"
      ],
      "metadata": {
        "colab": {
          "base_uri": "https://localhost:8080/"
        },
        "id": "aboq60Ln5qnL",
        "outputId": "2edb6eba-ff06-4ba5-d54f-7ad986bbb3be"
      },
      "execution_count": null,
      "outputs": [
        {
          "output_type": "execute_result",
          "data": {
            "text/plain": [
              "array([157377.06185642])"
            ]
          },
          "metadata": {},
          "execution_count": 35
        }
      ]
    },
    {
      "cell_type": "markdown",
      "source": [
        "3.3"
      ],
      "metadata": {
        "id": "hWoqyHQ6455j"
      }
    },
    {
      "cell_type": "code",
      "source": [
        "df = pd.read_csv('/content/drive/MyDrive/MLOps/casas.csv')\n",
        "X = df.drop(columns='precio',axis=1)\n",
        "y = df.precio\n",
        "X_train, X_test, y_train, y_test = train_test_split(X, y, test_size=0.3, random_state=42)\n",
        "modelo = LinearRegression()\n",
        "modelo.fit(X_train, y_train)"
      ],
      "metadata": {
        "colab": {
          "base_uri": "https://localhost:8080/"
        },
        "id": "3PZ2WQV73Y5A",
        "outputId": "bec90985-8bb9-4e0a-a52e-f077e51d1679"
      },
      "execution_count": null,
      "outputs": [
        {
          "output_type": "execute_result",
          "data": {
            "text/plain": [
              "LinearRegression()"
            ]
          },
          "metadata": {},
          "execution_count": 36
        }
      ]
    },
    {
      "cell_type": "code",
      "source": [
        "modelo.predict([[120,2001,2]])"
      ],
      "metadata": {
        "colab": {
          "base_uri": "https://localhost:8080/"
        },
        "id": "qpeQj_SW5IW7",
        "outputId": "683440f3-1195-4aa8-9cf1-eb6e2fd86dc7"
      },
      "execution_count": null,
      "outputs": [
        {
          "output_type": "execute_result",
          "data": {
            "text/plain": [
              "array([191436.53503831])"
            ]
          },
          "metadata": {},
          "execution_count": 37
        }
      ]
    },
    {
      "cell_type": "markdown",
      "source": [
        "4.1 "
      ],
      "metadata": {
        "id": "ZlcjqW4e7LzU"
      }
    },
    {
      "cell_type": "code",
      "source": [
        "{\n",
        "    \"area\":120,\n",
        "    \"modelo\":2001,\n",
        "    \"estacionamiento\":2\n",
        "}"
      ],
      "metadata": {
        "id": "vDa_r3Ka5b5X"
      },
      "execution_count": null,
      "outputs": []
    },
    {
      "cell_type": "markdown",
      "source": [
        "4.2"
      ],
      "metadata": {
        "id": "ycVZHwJW96pW"
      }
    },
    {
      "cell_type": "code",
      "source": [
        "from google.colab import files\n",
        "import pickle\n",
        "\n",
        "pickle.dump(modelo,open('modelo.pkl','wb'))\n",
        "files.download('modelo.pkl')\n",
        "\n",
        "#cargar\n",
        "modelo = pickle.load(open('modelo.pkl','rb'))"
      ],
      "metadata": {
        "id": "Ns66cO0C98J0"
      },
      "execution_count": null,
      "outputs": []
    },
    {
      "cell_type": "code",
      "source": [
        "import sklearn\n",
        "\n",
        "sklearn.__version__"
      ],
      "metadata": {
        "colab": {
          "base_uri": "https://localhost:8080/",
          "height": 35
        },
        "id": "6O-Z8XDb-M7x",
        "outputId": "41cef8aa-775d-434c-9366-e14f69ec8cda"
      },
      "execution_count": null,
      "outputs": [
        {
          "output_type": "execute_result",
          "data": {
            "text/plain": [
              "'1.0.2'"
            ],
            "application/vnd.google.colaboratory.intrinsic+json": {
              "type": "string"
            }
          },
          "metadata": {},
          "execution_count": 1
        }
      ]
    },
    {
      "cell_type": "markdown",
      "source": [
        "4.3"
      ],
      "metadata": {
        "id": "Fk2LIe9g_-_n"
      }
    },
    {
      "cell_type": "code",
      "source": [
        "#! pip install flask_basicauth"
      ],
      "metadata": {
        "id": "sz4P-dsl_ixs"
      },
      "execution_count": null,
      "outputs": []
    },
    {
      "cell_type": "code",
      "source": [
        ""
      ],
      "metadata": {
        "id": "LzZEkzzRAFG6"
      },
      "execution_count": null,
      "outputs": []
    }
  ]
}